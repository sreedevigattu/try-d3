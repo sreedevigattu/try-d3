{
 "cells": [
  {
   "cell_type": "markdown",
   "metadata": {},
   "source": [
    "# D3 v4 with Jupyter"
   ]
  },
  {
   "cell_type": "markdown",
   "metadata": {},
   "source": [
    "This notebook shows the process of displaying a d3 v4 graph widget in a Jupyter notebook using data that lives inside a Pandas DataFrame. I orginally followed the process detailed [here](https://github.com/stitchfix/d3-jupyter-tutorial) by stitchfix. Its very well done but unfortunately it doesn't seem to work work for d3 v4. Calling d3 v3 using `HTML('<script src=\"lib/d3/d3.min.js\"></script>')` is fine, but v4 is not loading with require.js.\n",
    "\n",
    "I wanted to get this working with d3 v4 and also using the `Javascript` display function rather than pushing in a script tag through the `HTML` display function. This it not the most exciting example ever, but it gets the process of moving data in a Pandas DataFrame into the DOM and accessible by D3. You can then edit your data queries and modify the output that D3 is displaying in one environment.\n"
   ]
  },
  {
   "cell_type": "code",
   "execution_count": 1,
   "metadata": {},
   "outputs": [],
   "source": [
    "from IPython.display import Javascript,HTML\n",
    "import json\n",
    "import seaborn as sns\n",
    "import pandas"
   ]
  },
  {
   "cell_type": "code",
   "execution_count": 2,
   "metadata": {},
   "outputs": [],
   "source": [
    "import ssl\n",
    "ssl._create_default_https_context = ssl._create_unverified_context\n",
    "\n",
    "# This will use the Iris dataset that seems to accompany most R examples. Its part of seaborn. Handy!\n",
    "iris = sns.load_dataset('iris')"
   ]
  },
  {
   "cell_type": "code",
   "execution_count": 3,
   "metadata": {},
   "outputs": [
    {
     "data": {
      "text/html": [
       "<div>\n",
       "<style scoped>\n",
       "    .dataframe tbody tr th:only-of-type {\n",
       "        vertical-align: middle;\n",
       "    }\n",
       "\n",
       "    .dataframe tbody tr th {\n",
       "        vertical-align: top;\n",
       "    }\n",
       "\n",
       "    .dataframe thead th {\n",
       "        text-align: right;\n",
       "    }\n",
       "</style>\n",
       "<table border=\"1\" class=\"dataframe\">\n",
       "  <thead>\n",
       "    <tr style=\"text-align: right;\">\n",
       "      <th></th>\n",
       "      <th>sepal_length</th>\n",
       "      <th>sepal_width</th>\n",
       "      <th>petal_length</th>\n",
       "      <th>petal_width</th>\n",
       "      <th>species</th>\n",
       "    </tr>\n",
       "  </thead>\n",
       "  <tbody>\n",
       "    <tr>\n",
       "      <th>108</th>\n",
       "      <td>6.7</td>\n",
       "      <td>2.5</td>\n",
       "      <td>5.8</td>\n",
       "      <td>1.8</td>\n",
       "      <td>virginica</td>\n",
       "    </tr>\n",
       "    <tr>\n",
       "      <th>59</th>\n",
       "      <td>5.2</td>\n",
       "      <td>2.7</td>\n",
       "      <td>3.9</td>\n",
       "      <td>1.4</td>\n",
       "      <td>versicolor</td>\n",
       "    </tr>\n",
       "    <tr>\n",
       "      <th>43</th>\n",
       "      <td>5.0</td>\n",
       "      <td>3.5</td>\n",
       "      <td>1.6</td>\n",
       "      <td>0.6</td>\n",
       "      <td>setosa</td>\n",
       "    </tr>\n",
       "    <tr>\n",
       "      <th>125</th>\n",
       "      <td>7.2</td>\n",
       "      <td>3.2</td>\n",
       "      <td>6.0</td>\n",
       "      <td>1.8</td>\n",
       "      <td>virginica</td>\n",
       "    </tr>\n",
       "    <tr>\n",
       "      <th>132</th>\n",
       "      <td>6.4</td>\n",
       "      <td>2.8</td>\n",
       "      <td>5.6</td>\n",
       "      <td>2.2</td>\n",
       "      <td>virginica</td>\n",
       "    </tr>\n",
       "    <tr>\n",
       "      <th>79</th>\n",
       "      <td>5.7</td>\n",
       "      <td>2.6</td>\n",
       "      <td>3.5</td>\n",
       "      <td>1.0</td>\n",
       "      <td>versicolor</td>\n",
       "    </tr>\n",
       "    <tr>\n",
       "      <th>37</th>\n",
       "      <td>4.9</td>\n",
       "      <td>3.6</td>\n",
       "      <td>1.4</td>\n",
       "      <td>0.1</td>\n",
       "      <td>setosa</td>\n",
       "    </tr>\n",
       "    <tr>\n",
       "      <th>67</th>\n",
       "      <td>5.8</td>\n",
       "      <td>2.7</td>\n",
       "      <td>4.1</td>\n",
       "      <td>1.0</td>\n",
       "      <td>versicolor</td>\n",
       "    </tr>\n",
       "    <tr>\n",
       "      <th>60</th>\n",
       "      <td>5.0</td>\n",
       "      <td>2.0</td>\n",
       "      <td>3.5</td>\n",
       "      <td>1.0</td>\n",
       "      <td>versicolor</td>\n",
       "    </tr>\n",
       "    <tr>\n",
       "      <th>143</th>\n",
       "      <td>6.8</td>\n",
       "      <td>3.2</td>\n",
       "      <td>5.9</td>\n",
       "      <td>2.3</td>\n",
       "      <td>virginica</td>\n",
       "    </tr>\n",
       "  </tbody>\n",
       "</table>\n",
       "</div>"
      ],
      "text/plain": [
       "     sepal_length  sepal_width  petal_length  petal_width     species\n",
       "108           6.7          2.5           5.8          1.8   virginica\n",
       "59            5.2          2.7           3.9          1.4  versicolor\n",
       "43            5.0          3.5           1.6          0.6      setosa\n",
       "125           7.2          3.2           6.0          1.8   virginica\n",
       "132           6.4          2.8           5.6          2.2   virginica\n",
       "79            5.7          2.6           3.5          1.0  versicolor\n",
       "37            4.9          3.6           1.4          0.1      setosa\n",
       "67            5.8          2.7           4.1          1.0  versicolor\n",
       "60            5.0          2.0           3.5          1.0  versicolor\n",
       "143           6.8          3.2           5.9          2.3   virginica"
      ]
     },
     "execution_count": 3,
     "metadata": {},
     "output_type": "execute_result"
    }
   ],
   "source": [
    "iris.sample(10)"
   ]
  },
  {
   "cell_type": "code",
   "execution_count": 4,
   "metadata": {},
   "outputs": [
    {
     "data": {
      "text/plain": [
       "['setosa', 'versicolor', 'virginica']"
      ]
     },
     "execution_count": 4,
     "metadata": {},
     "output_type": "execute_result"
    }
   ],
   "source": [
    "# There are only 3 species types in the data, so colors of the bars are assigned with `d3.schemeCategory10`\n",
    "iris['species'].drop_duplicates().tolist()"
   ]
  },
  {
   "cell_type": "markdown",
   "metadata": {},
   "source": [
    "Editing javascript a Python notebook is not great. You don't get syntax highlighting, code completion or other handy stuff that a good editor will do. I use Sublime Text and had a file that I edited and re-loaded using the code below."
   ]
  },
  {
   "cell_type": "code",
   "execution_count": 5,
   "metadata": {},
   "outputs": [],
   "source": [
    "#Javascript(filename='some_js_file.js')"
   ]
  },
  {
   "cell_type": "markdown",
   "metadata": {},
   "source": [
    "## The Actual Javascript\n",
    "This was trickier than it should be as the functions and variables aren't accessible to other `Javascript` instances unless you use the `window.` prefix. This is one function `udpater` that does all the work. Since the `svg` variable also not accessiable outside this function its necessary to check if it existing on each iteration and create it on the first one. \n",
    "\n",
    "The d3 stuff was quite straight forware. This uses the new d3 v4 enter-update-exit pattern described [here](https://bl.ocks.org/mbostock/3808218). I also grabbed some code from [here](https://bl.ocks.org/d3noob/bdf28027e0ce70bd132edc64f1dd7ea4). "
   ]
  },
  {
   "cell_type": "code",
   "execution_count": 6,
   "metadata": {
    "hide_input": false
   },
   "outputs": [
    {
     "data": {
      "application/javascript": "\nrequire.config({\n    paths: {\n        d3: \"https://d3js.org/d3.v4.min\"\n    }\n});\n\nrequire([\"d3\"], function(d3) {\n\n    window.updater = function(data) {\n        d3.selectAll(\"p\").html(\"Changed <b>content</b>\")\n\n        var svg_margin  = { top: 20, right: 20, bottom: 20, left: 40 };\n        var svg_width   = 960 - svg_margin.left - svg_margin.right;\n        var svg_height  = 500 - svg_margin.top - svg_margin.bottom;\n\n        var y = d3.scaleLinear()\n            .domain([0, d3.max(data, function(d) { return d.petal_length; })])\n            .range([svg_height, 0]);\n\n        var x = d3.scaleBand()\n            .domain(d3.range(data.length))\n            .range([0, svg_width])\n            .padding(0.1);\n\n        var species_list = d3.map(data, function (d) { return d.species;}).keys();\n\n        if (d3.select(\"#svg_container\").select(\"svg\").empty()) {\n\n            window.svg = d3.select(\"#svg_container\").append(\"svg\")\n                .attr(\"width\", svg_width + svg_margin.left + svg_margin.right)\n                .attr(\"height\", svg_height + svg_margin.top + svg_margin.bottom)\n                .append(\"g\")\n                .attr(\"transform\",\n                    \"translate(\" + svg_margin.left + \",\" + svg_margin.top + \")\");\n\n            svg.append(\"g\")\n                .attr(\"transform\", \"translate(0,\" + svg_height + \")\")\n                .attr(\"class\", \"x axis\")\n                .call(d3.axisBottom(x));\n\n            // add the y Axis\n            svg.append(\"g\")\n                .attr(\"class\", \"y axis\")\n                .call(d3.axisLeft(y));\n        } else {\n            svg.selectAll(\"g.y.axis\")\n                .call(d3.axisLeft(y));\n\n            svg.selectAll(\"g.x.axis\")\n                .call(d3.axisBottom(x));\n        }\n\n        // DATA JOIN\n        // Join new data with old elements, if any.\n\n        var bars = svg.selectAll(\".bar\")\n            .data(data);\n\n        // UPDATE\n        // Update old elements as needed.\n\n        bars\n            .attr(\"style\",function(d) { return \"fill:\" + d3.schemeCategory10[species_list.indexOf(d.species)];})\n            .attr(\"x\", function(d, i) { return x(i); })\n            .attr(\"width\", x.bandwidth())\n            .transition()\n            .duration(100)\n            .attr(\"y\", function(d) { return y(d.petal_length); })\n            .attr(\"height\", function(d) { return svg_height - y(d.petal_length); });\n\n        // ENTER + UPDATE\n        // After merging the entered elements with the update selection,\n        // apply operations to both.\n\n        bars.enter().append(\"rect\")\n            .attr(\"class\", \"bar\")\n            .attr(\"style\",function(d) { return \"fill:\" + d3.schemeCategory10[species_list.indexOf(d.species)];})\n            .attr(\"x\", function(d, i) { return x(i); })\n            .attr(\"width\", x.bandwidth())\n            .attr(\"y\", function(d) { return y(d.petal_length); })\n            .attr(\"height\", function(d) { return svg_height - y(d.petal_length); })\n            .merge(bars);\n\n        // EXIT\n        // Remove old elements as needed.\n\n        bars.exit().remove();\n\n    };\n});\n",
      "text/plain": [
       "<IPython.core.display.Javascript object>"
      ]
     },
     "execution_count": 6,
     "metadata": {},
     "output_type": "execute_result"
    }
   ],
   "source": [
    "Javascript(\"\"\"\n",
    "require.config({\n",
    "    paths: {\n",
    "        d3: \"https://d3js.org/d3.v4.min\"\n",
    "    }\n",
    "});\n",
    "\n",
    "require([\"d3\"], function(d3) {\n",
    "\n",
    "    window.updater = function(data) {\n",
    "        d3.selectAll(\"p\").html(\"Changed <b>content</b>\")\n",
    "\n",
    "        var svg_margin  = { top: 20, right: 20, bottom: 20, left: 40 };\n",
    "        var svg_width   = 960 - svg_margin.left - svg_margin.right;\n",
    "        var svg_height  = 500 - svg_margin.top - svg_margin.bottom;\n",
    "\n",
    "        var y = d3.scaleLinear()\n",
    "            .domain([0, d3.max(data, function(d) { return d.petal_length; })])\n",
    "            .range([svg_height, 0]);\n",
    "\n",
    "        var x = d3.scaleBand()\n",
    "            .domain(d3.range(data.length))\n",
    "            .range([0, svg_width])\n",
    "            .padding(0.1);\n",
    "\n",
    "        var species_list = d3.map(data, function (d) { return d.species;}).keys();\n",
    "\n",
    "        if (d3.select(\"#svg_container\").select(\"svg\").empty()) {\n",
    "\n",
    "            window.svg = d3.select(\"#svg_container\").append(\"svg\")\n",
    "                .attr(\"width\", svg_width + svg_margin.left + svg_margin.right)\n",
    "                .attr(\"height\", svg_height + svg_margin.top + svg_margin.bottom)\n",
    "                .append(\"g\")\n",
    "                .attr(\"transform\",\n",
    "                    \"translate(\" + svg_margin.left + \",\" + svg_margin.top + \")\");\n",
    "\n",
    "            svg.append(\"g\")\n",
    "                .attr(\"transform\", \"translate(0,\" + svg_height + \")\")\n",
    "                .attr(\"class\", \"x axis\")\n",
    "                .call(d3.axisBottom(x));\n",
    "\n",
    "            // add the y Axis\n",
    "            svg.append(\"g\")\n",
    "                .attr(\"class\", \"y axis\")\n",
    "                .call(d3.axisLeft(y));\n",
    "        } else {\n",
    "            svg.selectAll(\"g.y.axis\")\n",
    "                .call(d3.axisLeft(y));\n",
    "\n",
    "            svg.selectAll(\"g.x.axis\")\n",
    "                .call(d3.axisBottom(x));\n",
    "        }\n",
    "\n",
    "        // DATA JOIN\n",
    "        // Join new data with old elements, if any.\n",
    "\n",
    "        var bars = svg.selectAll(\".bar\")\n",
    "            .data(data);\n",
    "\n",
    "        // UPDATE\n",
    "        // Update old elements as needed.\n",
    "\n",
    "        bars\n",
    "            .attr(\"style\",function(d) { return \"fill:\" + d3.schemeCategory10[species_list.indexOf(d.species)];})\n",
    "            .attr(\"x\", function(d, i) { return x(i); })\n",
    "            .attr(\"width\", x.bandwidth())\n",
    "            .transition()\n",
    "            .duration(100)\n",
    "            .attr(\"y\", function(d) { return y(d.petal_length); })\n",
    "            .attr(\"height\", function(d) { return svg_height - y(d.petal_length); });\n",
    "\n",
    "        // ENTER + UPDATE\n",
    "        // After merging the entered elements with the update selection,\n",
    "        // apply operations to both.\n",
    "\n",
    "        bars.enter().append(\"rect\")\n",
    "            .attr(\"class\", \"bar\")\n",
    "            .attr(\"style\",function(d) { return \"fill:\" + d3.schemeCategory10[species_list.indexOf(d.species)];})\n",
    "            .attr(\"x\", function(d, i) { return x(i); })\n",
    "            .attr(\"width\", x.bandwidth())\n",
    "            .attr(\"y\", function(d) { return y(d.petal_length); })\n",
    "            .attr(\"height\", function(d) { return svg_height - y(d.petal_length); })\n",
    "            .merge(bars);\n",
    "\n",
    "        // EXIT\n",
    "        // Remove old elements as needed.\n",
    "\n",
    "        bars.exit().remove();\n",
    "\n",
    "    };\n",
    "});\n",
    "\"\"\")"
   ]
  },
  {
   "cell_type": "markdown",
   "metadata": {},
   "source": [
    "## The HTML\n",
    "This needs some HTML scafholding for d3 to select. You can add more complex styling, HTML inputs etc here and also access it via a file. "
   ]
  },
  {
   "cell_type": "code",
   "execution_count": 7,
   "metadata": {
    "scrolled": false
   },
   "outputs": [
    {
     "data": {
      "text/html": [
       "\n",
       "<style>\n",
       "\n",
       ".axis {\n",
       "  font: 12px sans-serif;\n",
       "}\n",
       "</style>\n",
       "\n",
       "<body>\n",
       "<span> Cluster data </span>\n",
       "<p class=\"main-paragraph\">1. Line </p>\n",
       "<p>2. line</p>\n",
       "</body>\n",
       "\n",
       "<div id='svg_container' class=\"\"></div>\n"
      ],
      "text/plain": [
       "<IPython.core.display.HTML object>"
      ]
     },
     "execution_count": 7,
     "metadata": {},
     "output_type": "execute_result"
    }
   ],
   "source": [
    "HTML(\"\"\"\n",
    "<style>\n",
    "\n",
    ".axis {\n",
    "  font: 12px sans-serif;\n",
    "}\n",
    "</style>\n",
    "\n",
    "<body>\n",
    "<span> Cluster data </span>\n",
    "<p class=\"main-paragraph\">1. Line </p>\n",
    "<p>2. line</p>\n",
    "</body>\n",
    "\n",
    "<div id='svg_container' class=\"\"></div>\n",
    "\"\"\")\n"
   ]
  },
  {
   "cell_type": "markdown",
   "metadata": {},
   "source": [
    "## Binding the Data\n",
    "Re-run the code below to update the graph. You can change the sample size to add or remove bars from the graph."
   ]
  },
  {
   "cell_type": "code",
   "execution_count": 8,
   "metadata": {},
   "outputs": [
    {
     "data": {
      "application/javascript": "\nrequire([\"d3\"], function(d3) {\n    updater([{\"sepal_length\": 6.3, \"sepal_width\": 2.5, \"petal_length\": 4.9, \"petal_width\": 1.5, \"species\": \"versicolor\"}, {\"sepal_length\": 6.3, \"sepal_width\": 3.3, \"petal_length\": 4.7, \"petal_width\": 1.6, \"species\": \"versicolor\"}, {\"sepal_length\": 5.4, \"sepal_width\": 3.9, \"petal_length\": 1.3, \"petal_width\": 0.4, \"species\": \"setosa\"}, {\"sepal_length\": 5.7, \"sepal_width\": 4.4, \"petal_length\": 1.5, \"petal_width\": 0.4, \"species\": \"setosa\"}, {\"sepal_length\": 5.1, \"sepal_width\": 3.8, \"petal_length\": 1.9, \"petal_width\": 0.4, \"species\": \"setosa\"}, {\"sepal_length\": 5.5, \"sepal_width\": 2.6, \"petal_length\": 4.4, \"petal_width\": 1.2, \"species\": \"versicolor\"}, {\"sepal_length\": 5.1, \"sepal_width\": 3.5, \"petal_length\": 1.4, \"petal_width\": 0.2, \"species\": \"setosa\"}, {\"sepal_length\": 6.2, \"sepal_width\": 2.2, \"petal_length\": 4.5, \"petal_width\": 1.5, \"species\": \"versicolor\"}, {\"sepal_length\": 5.4, \"sepal_width\": 3.7, \"petal_length\": 1.5, \"petal_width\": 0.2, \"species\": \"setosa\"}, {\"sepal_length\": 4.6, \"sepal_width\": 3.2, \"petal_length\": 1.4, \"petal_width\": 0.2, \"species\": \"setosa\"}])\n});\n",
      "text/plain": [
       "<IPython.core.display.Javascript object>"
      ]
     },
     "execution_count": 8,
     "metadata": {},
     "output_type": "execute_result"
    }
   ],
   "source": [
    "# This selects a random sample of 10 rows from the Iris DataFrom. Its push to the DOM in d3 specific format by \n",
    "# converting the data frame to a dictionary, oriented by `records`. At this point is just a long, correctly formatted\n",
    "# string being run inside the browser that creates an oject that d3 can work with. \n",
    "\n",
    "record_set = json.dumps(iris.sample(10).to_dict(orient='records'))\n",
    "#[print(item) for item in record_set.split('},')]\n",
    "\n",
    "Javascript(\"\"\"\n",
    "require([\"d3\"], function(d3) {{\n",
    "    updater({})\n",
    "}});\n",
    "\"\"\".format(record_set))"
   ]
  },
  {
   "cell_type": "markdown",
   "metadata": {},
   "source": [
    "## Registering the d3 module to use on the console\n",
    "Occasionally you are going to need to debug things on the console, and if your run the code snippet below, it adds d3 as a global function."
   ]
  },
  {
   "cell_type": "code",
   "execution_count": 9,
   "metadata": {},
   "outputs": [
    {
     "data": {
      "application/javascript": "\nrequire([\"d3\"], function(d3) {\n  window.d3 = d3;\n});\n",
      "text/plain": [
       "<IPython.core.display.Javascript object>"
      ]
     },
     "execution_count": 9,
     "metadata": {},
     "output_type": "execute_result"
    }
   ],
   "source": [
    "Javascript(\"\"\"\n",
    "require([\"d3\"], function(d3) {\n",
    "  window.d3 = d3;\n",
    "});\n",
    "\"\"\")"
   ]
  }
 ],
 "metadata": {
  "kernelspec": {
   "display_name": "Python 3.9.1 ('venv')",
   "language": "python",
   "name": "python3"
  },
  "language_info": {
   "codemirror_mode": {
    "name": "ipython",
    "version": 3
   },
   "file_extension": ".py",
   "mimetype": "text/x-python",
   "name": "python",
   "nbconvert_exporter": "python",
   "pygments_lexer": "ipython3",
   "version": "3.9.1"
  },
  "vscode": {
   "interpreter": {
    "hash": "85a0515532acebadf4f2d91c7d589e2f27f5817949ade3a2490ed673fe3134ee"
   }
  }
 },
 "nbformat": 4,
 "nbformat_minor": 2
}
