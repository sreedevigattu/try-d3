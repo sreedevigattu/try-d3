{
 "cells": [
  {
   "cell_type": "markdown",
   "metadata": {},
   "source": [
    "Credit: \n",
    "- [Custom D3.js Visualization in a Jupyter Notebook](https://nbviewer.org/github/soxofaan/jupyter-playground/blob/master/jupyter-custom-d3-visualization/jupyter-custom-d3-visualization.ipynb)\n",
    "- [Custom D3.js Visualization in a Jupyter Notebook - CODE](https://github.com/soxofaan/jupyter-playground)"
   ]
  },
  {
   "cell_type": "code",
   "execution_count": 13,
   "metadata": {},
   "outputs": [],
   "source": [
    "from IPython.display import display, Javascript, HTML\n",
    "import json"
   ]
  },
  {
   "cell_type": "code",
   "execution_count": 14,
   "metadata": {},
   "outputs": [
    {
     "data": {
      "application/javascript": " // First undefine 'circles' so we can easily reload this file.\nrequire.undef('scatter');\n\ndefine('scatter', ['d3'], function (d3) {\n\n    function showData(data) {\n        var SVG_PADDING = 50, SVG_WIDTH = 400, SVG_HEIGHT = 400;\n        var DOMAIN_PADDING = 50\n        var RADIUS = 10;\n        var country = [], gold = [], silver = [];\n\n        // Read data\n        data.map(function(d) {\n            country.push(d.country);\n            gold.push(+d.gold);         // convert to int, else the max function will not work correctly\n            silver.push(+d.silver);     // convert to int, else the max function will not work correctly\n        })\n        console.log(data);console.log(data[0], data[0].country)\n        console.log(country)\n        console.log(\"Golds:\", gold,  \"MIN:\", d3.min(gold), \"MAX:\", d3.max(gold))\n        console.log(\"Silvers:\", silver, \"MIN:\", d3.min(silver), \"MAX:\", d3.max(silver))\n\n        // Create SVG\n        var svg_scatter = d3.select(\"body\").append(\"svg\")\n            .attr(\"width\", SVG_WIDTH).attr(\"height\", SVG_HEIGHT)\n            .attr(\"style\", \"outline: thin solid black;\") \n\n        // Create scales\n        let xscale = d3.scaleLinear().range([SVG_PADDING, SVG_WIDTH-SVG_PADDING]).domain([0, d3.max(gold)+DOMAIN_PADDING])\n        let yscale = d3.scaleLinear().range([SVG_PADDING, SVG_HEIGHT-SVG_PADDING]).domain([d3.max(silver)+DOMAIN_PADDING, 0])\n\n        function COLOR_CIRCLE(d){  \n            return \"rgb(\"+d.gold+\", \"+d.silver+\",0)\"\n        }  \n\n        var circles = svg_scatter.selectAll(\"circle\").data(data).enter()\n            .append(\"circle\")\n            .attr(\"cx\", function(d) { return (xscale(d.gold))   })\n            .attr(\"cy\", function(d) { return (yscale(d.silver)) })\n            //.attr(\"r\", RADIUS)\n            .attr(\"r\", function(d) {return Math.sqrt(d.gold*d.gold+d.silver*d.silver)/10})\n            .attr(\"fill\", function(d) {return COLOR_CIRCLE(d)})\n\n        // TODO: \n        // Axes should start from -10 onwards so that the circle is not cut\n        // Show hover text of the number of golds, silvers, total\n        // On clicking the circle, circle should pop out  or go to an external site\n\n        var xaxis = d3.axisBottom(xscale).ticks(5)\n        var yaxis = d3.axisLeft(yscale).ticks(5)\n\n        svg_scatter.append(\"g\").attr(\"class\", \"axis\").call(xaxis)\n            .attr(\"transform\", \"translate(0,\" + (SVG_HEIGHT - SVG_PADDING) + \")\").call(xaxis)\n        svg_scatter.append(\"g\").attr(\"class\", \"axis\").call(yaxis)\n            .attr(\"transform\", \"translate(\" + SVG_PADDING + \",0)\").call(yaxis)\n\n        // Annotate\n        svg_scatter.selectAll(\"annotation\").data(data).enter().append(\"text\")\n            .transition().duration(1000).delay(500).ease(d3.easeLinear)\n            .attr(\"x\", function(d) { return xscale(d.gold)+10 })\n            .attr(\"y\", function(d) { return yscale(d.silver) })\n            .text(function(d) { return d.country }).attr(\"font-size\", \"10px\")\n\n        // Define the div for the tooltip\n        var tip = d3.select(\"body\").append(\"div\")\n            .attr(\"class\", \"tooltip\").style(\"opacity\", 0)\n\n        circles.on(\"mouseover\", function(d) {\n            d3.select(this).attr(\"fill\" , \"rgb(0,0,0)\");\n\n        tip.style(\"opacity\", 1)\n            .html(d.country + \"<br/> Gold: \" + d.gold + \"<br/> Silver: \" + d.silver)\n            .style(\"left\", (d3.event.pageX-25) + \"px\")\n            .style(\"top\", (d3.event.pageY-75) + \"px\")\n        })\n\n        circles.on(\"mouseout\", function(d) {\n            d3.select(this)\n            .transition().duration(500)\n            .attr(\"fill\", function(d) {return COLOR_CIRCLE(d)})\n        tip.style(\"opacity\", 0)\n        })\n    }\n\n    function myFunction() {\n        // Read the data\n        d3.csv(\"data/countries.csv\").then(showData)\n    }\n\n    return myFunction;\n});",
      "text/plain": [
       "<IPython.core.display.Javascript object>"
      ]
     },
     "execution_count": 14,
     "metadata": {},
     "output_type": "execute_result"
    }
   ],
   "source": [
    "Javascript(filename=\"scatter.js\")"
   ]
  },
  {
   "cell_type": "code",
   "execution_count": 15,
   "metadata": {},
   "outputs": [
    {
     "data": {
      "application/javascript": "\n        (function(element){\n            require(['scatter'], function(scatter) {\n                scatter(element.get(0));\n            });\n        })(element);\n    ",
      "text/plain": [
       "<IPython.core.display.Javascript object>"
      ]
     },
     "metadata": {},
     "output_type": "display_data"
    }
   ],
   "source": [
    "display(Javascript(\"\"\"\n",
    "        (function(element){\n",
    "            require(['scatter'], function(scatter) {\n",
    "                scatter(element.get(0));\n",
    "            });\n",
    "        })(element);\n",
    "    \"\"\"))"
   ]
  }
 ],
 "metadata": {
  "kernelspec": {
   "display_name": "Python 3",
   "language": "python",
   "name": "python3"
  },
  "language_info": {
   "codemirror_mode": {
    "name": "ipython",
    "version": 3
   },
   "file_extension": ".py",
   "mimetype": "text/x-python",
   "name": "python",
   "nbconvert_exporter": "python",
   "pygments_lexer": "ipython3",
   "version": "3.9.1 (v3.9.1:1e5d33e9b9, Dec  7 2020, 12:10:52) \n[Clang 6.0 (clang-600.0.57)]"
  },
  "orig_nbformat": 4,
  "vscode": {
   "interpreter": {
    "hash": "036d08c991a5004ec95fd8bdb7a4cd1c386609c0034fc82fef0056330242b87f"
   }
  }
 },
 "nbformat": 4,
 "nbformat_minor": 2
}
